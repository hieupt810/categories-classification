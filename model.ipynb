{
 "cells": [
  {
   "cell_type": "markdown",
   "metadata": {},
   "source": [
    "# Dependencies\n"
   ]
  },
  {
   "cell_type": "code",
   "execution_count": null,
   "metadata": {},
   "outputs": [],
   "source": [
    "import os\n",
    "\n",
    "import numpy as np\n",
    "import torch\n",
    "import torch.nn as nn\n",
    "import torch.optim as optim\n",
    "import torchvision.transforms as transforms\n",
    "from PIL import Image\n",
    "from torch.utils.data import DataLoader, sampler\n",
    "from torchvision.datasets import ImageFolder\n",
    "from transformers import ViTForImageClassification, ViTImageProcessor\n",
    "\n",
    "device = torch.device(\"cuda\" if torch.cuda.is_available() else \"cpu\")"
   ]
  },
  {
   "cell_type": "code",
   "execution_count": null,
   "metadata": {},
   "outputs": [],
   "source": [
    "def save_checkpoint(model: nn.Module, optimizer: optim.Optimizer, path: str):\n",
    "    obj = {\n",
    "        \"model_state_dict\": model.state_dict(),\n",
    "        \"optimizer_state_dict\": optimizer.state_dict(),\n",
    "    }\n",
    "    torch.save(obj, path)\n",
    "\n",
    "\n",
    "def load_checkpoint(model: nn.Module, optimizer: optim.Optimizer, path: str):\n",
    "    device = torch.device(\"cuda\" if torch.cuda.is_available() else \"cpu\")\n",
    "    checkpoint = torch.load(path, map_location=device, weights_only=True)\n",
    "\n",
    "    model.load_state_dict(checkpoint[\"model_state_dict\"])\n",
    "    optimizer.load_state_dict(checkpoint[\"optimizer_state_dict\"])\n",
    "\n",
    "    return model, optimizer"
   ]
  },
  {
   "cell_type": "code",
   "execution_count": null,
   "metadata": {},
   "outputs": [],
   "source": [
    "def train_step(\n",
    "    model: nn.Module,\n",
    "    dataloader: DataLoader,\n",
    "    optimizer: optim.Optimizer,\n",
    "    criterion: nn.CrossEntropyLoss,\n",
    "):\n",
    "    model.train()\n",
    "    loss = 0.0\n",
    "    for images, labels in dataloader:\n",
    "        images, labels = images.to(device), labels.to(device)\n",
    "        optimizer.zero_grad()\n",
    "        outputs = model(images).logits\n",
    "        loss = criterion(outputs, labels)\n",
    "        loss.backward()\n",
    "        optimizer.step()\n",
    "        loss += loss.item()\n",
    "\n",
    "    return loss\n",
    "\n",
    "\n",
    "def test_step(model: nn.Module, dataloader: DataLoader):\n",
    "    model.eval()\n",
    "    correct, total = 0, 0\n",
    "    with torch.no_grad():\n",
    "        for images, labels in dataloader:\n",
    "            images, labels = images.to(device), labels.to(device)\n",
    "            outputs = model(images).logits\n",
    "            _, predicted = torch.max(outputs, 1)\n",
    "            total += labels.size(0)\n",
    "            correct += (predicted == labels).sum().item()\n",
    "\n",
    "    return 100 * correct / total"
   ]
  },
  {
   "cell_type": "markdown",
   "metadata": {},
   "source": [
    "# Dataset\n"
   ]
  },
  {
   "cell_type": "code",
   "execution_count": null,
   "metadata": {},
   "outputs": [],
   "source": [
    "def load_train_dataset(\n",
    "    root: str, model_name: str = \"google/vit-base-patch16-224\", batch_size: int = 32\n",
    ") -> DataLoader:\n",
    "    processor = ViTImageProcessor.from_pretrained(model_name)\n",
    "    transform = transforms.Compose(\n",
    "        [\n",
    "            transforms.RandomRotation(degrees=15),\n",
    "            transforms.RandomHorizontalFlip(p=0.5),\n",
    "            transforms.RandomResizedCrop(size=(224, 224), antialias=True),\n",
    "            transforms.ColorJitter(\n",
    "                brightness=0.1, contrast=0.1, saturation=0.1, hue=0.1\n",
    "            ),\n",
    "            transforms.ToTensor(),\n",
    "            transforms.Normalize(mean=processor.image_mean, std=processor.image_std),\n",
    "        ]\n",
    "    )\n",
    "    dataset = ImageFolder(os.path.join(root, \"train\"), transform=transform)\n",
    "\n",
    "    return DataLoader(dataset=dataset, batch_size=batch_size, shuffle=False)"
   ]
  },
  {
   "cell_type": "code",
   "execution_count": null,
   "metadata": {},
   "outputs": [],
   "source": [
    "def load_test_dataset(\n",
    "    root: str, model_name: str = \"google/vit-base-patch16-224\", batch_size: int = 32\n",
    "):\n",
    "    processor = ViTImageProcessor.from_pretrained(model_name)\n",
    "    transform = transforms.Compose(\n",
    "        [\n",
    "            transforms.Resize(size=(224, 224), antialias=True),\n",
    "            transforms.ToTensor(),\n",
    "            transforms.Normalize(mean=processor.image_mean, std=processor.image_std),\n",
    "        ]\n",
    "    )\n",
    "    dataset = ImageFolder(os.path.join(root, \"test\"), transform=transform)\n",
    "    indices = list(range(len(dataset)))\n",
    "    split = int(np.floor(0.3 * len(dataset)))\n",
    "\n",
    "    # Set seed for reproducibility\n",
    "    np.random.seed(42)\n",
    "    np.random.shuffle(indices)\n",
    "\n",
    "    # Split the dataset\n",
    "    test_idx, valid_idx = indices[split:], indices[:split]\n",
    "    test_sampler = sampler.SubsetRandomSampler(test_idx)\n",
    "    valid_sampler = sampler.SubsetRandomSampler(valid_idx)\n",
    "    test_loader = DataLoader(\n",
    "        dataset=dataset, batch_size=batch_size, sampler=test_sampler\n",
    "    )\n",
    "    valid_loader = DataLoader(\n",
    "        dataset=dataset, batch_size=batch_size, sampler=valid_sampler\n",
    "    )\n",
    "\n",
    "    return test_loader, valid_loader"
   ]
  },
  {
   "cell_type": "markdown",
   "metadata": {},
   "source": [
    "# Model\n"
   ]
  },
  {
   "cell_type": "code",
   "execution_count": null,
   "metadata": {},
   "outputs": [],
   "source": [
    "def load_model(num_classes: int, model_name: str = \"google/vit-base-patch16-224\"):\n",
    "    model = ViTForImageClassification.from_pretrained(model_name)\n",
    "    model.classifier = nn.Sequential(\n",
    "        nn.Linear(in_features=768, out_features=512),\n",
    "        nn.ReLU(),\n",
    "        nn.Dropout(p=0.2),\n",
    "        nn.Linear(in_features=512, out_features=256),\n",
    "        nn.ReLU(),\n",
    "        nn.Dropout(p=0.2),\n",
    "        nn.Linear(in_features=256, out_features=num_classes, bias=False),\n",
    "    )\n",
    "\n",
    "    return model"
   ]
  },
  {
   "cell_type": "markdown",
   "metadata": {},
   "source": [
    "# Train\n"
   ]
  },
  {
   "cell_type": "code",
   "execution_count": null,
   "metadata": {},
   "outputs": [],
   "source": [
    "train_loader = load_train_dataset(root=\"/kaggle/input/pbl6-dataset\")\n",
    "test_loader, valid_loader = load_test_dataset(root=\"/kaggle/input/pbl6-dataset\")"
   ]
  },
  {
   "cell_type": "code",
   "execution_count": null,
   "metadata": {},
   "outputs": [],
   "source": [
    "model = load_model(num_classes=10).to(device)\n",
    "criterion = nn.CrossEntropyLoss()\n",
    "optimizer = optim.Adam(model.parameters(), lr=0.001)\n",
    "scheduler = optim.lr_scheduler.StepLR(optimizer, step_size=10, gamma=0.1)"
   ]
  },
  {
   "cell_type": "code",
   "execution_count": null,
   "metadata": {},
   "outputs": [],
   "source": [
    "EPOCHS = 20\n",
    "for epoch in range(1, EPOCHS + 1):\n",
    "    loss = train_step(model, train_loader, optimizer, criterion)\n",
    "    accuracy = test_step(model, valid_loader)\n",
    "    scheduler.step()\n",
    "    print(f\"Epoch [{epoch}/{EPOCHS}] | Loss: {loss:.4f}, Accuracy: {accuracy:.2f}%\")\n",
    "\n",
    "    if epoch % 5 == 0:\n",
    "        save_checkpoint(model, optimizer, f\"model_{epoch}.pt\")"
   ]
  },
  {
   "cell_type": "markdown",
   "metadata": {},
   "source": [
    "# Test\n"
   ]
  },
  {
   "cell_type": "code",
   "execution_count": null,
   "metadata": {},
   "outputs": [],
   "source": [
    "def test_checkpoint(path: str):\n",
    "    model = load_model(num_classes=10).to(device)\n",
    "    optimizer = optim.Adam(model.parameters(), lr=0.001)\n",
    "    model, optimizer = load_checkpoint(model, optimizer, path)\n",
    "\n",
    "    accuracy = test_step(model, test_loader)\n",
    "    print(f\"Accuracy: {accuracy:.2f}%\")"
   ]
  },
  {
   "cell_type": "code",
   "execution_count": null,
   "metadata": {},
   "outputs": [],
   "source": [
    "def test_single_image(path: str):\n",
    "    model = load_model(num_classes=10).to(device)\n",
    "    model.eval()\n",
    "\n",
    "    processor = ViTImageProcessor.from_pretrained(\"google/vit-base-patch16-224\")\n",
    "    transform = transforms.Compose(\n",
    "        [\n",
    "            transforms.Resize(size=(224, 224), antialias=True),\n",
    "            transforms.ToTensor(),\n",
    "            transforms.Normalize(mean=processor.image_mean, std=processor.image_std),\n",
    "        ]\n",
    "    )\n",
    "    image = transform(Image.open(path)).unsqueeze(0).to(device)\n",
    "    outputs = model(image).logits\n",
    "    _, predicted = torch.max(outputs, 1)\n",
    "\n",
    "    return predicted.item()"
   ]
  }
 ],
 "metadata": {
  "kernelspec": {
   "display_name": "Python 3",
   "language": "python",
   "name": "python3"
  },
  "language_info": {
   "name": "python",
   "version": "3.12.7"
  }
 },
 "nbformat": 4,
 "nbformat_minor": 2
}
