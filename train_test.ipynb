{
 "cells": [
  {
   "cell_type": "markdown",
   "metadata": {},
   "source": [
    "# Set up"
   ]
  },
  {
   "cell_type": "code",
   "execution_count": null,
   "metadata": {},
   "outputs": [],
   "source": [
    "import os\n",
    "\n",
    "import torch\n",
    "import torch.nn as nn\n",
    "import torch.optim as optim\n",
    "import torchvision.transforms as transforms\n",
    "from torch.utils.data import DataLoader\n",
    "from torchvision.datasets import ImageFolder\n",
    "from torchtune.modules import get_cosine_schedule_with_warmup\n",
    "import pandas as pd\n",
    "from tqdm import tqdm\n",
    "from PIL import Image\n",
    "from models.resnet import ResNet101\n",
    "from models.vision_transformer import VisionTransformer"
   ]
  },
  {
   "cell_type": "code",
   "execution_count": null,
   "metadata": {},
   "outputs": [],
   "source": [
    "def load_dataset(root='./data', batch_size=64) -> tuple[DataLoader, DataLoader, DataLoader]:\n",
    "    torch.manual_seed(42)\n",
    "    \n",
    "    data_augmentation = transforms.Compose([\n",
    "\t\ttransforms.RandomRotation(degrees=15),\n",
    "\t\ttransforms.RandomHorizontalFlip(p=0.5),\n",
    "\t\ttransforms.ColorJitter(brightness=0.1, contrast=0.1, saturation=0.1, hue=0.1),\n",
    "\t])\n",
    "    normalize = transforms.Compose([\n",
    "\t\ttransforms.Resize(size=(224, 224), antialias=True),\n",
    "\t\ttransforms.ToTensor(),\n",
    "\t\ttransforms.Normalize([0.7037, 0.6818, 0.6685], [0.2739, 0.2798, 0.2861]),\n",
    "\t])\n",
    "\n",
    "    train_dataset = ImageFolder(\n",
    "        root=os.path.join(root, \"train\"),\n",
    "        transform=transforms.Compose([data_augmentation, normalize]),\n",
    "    )\n",
    "    valid_dataset = ImageFolder(\n",
    "        root=os.path.join(root, \"val\"),\n",
    "        transform=normalize\n",
    "    )\n",
    "    test_dataset = ImageFolder(\n",
    "        root=os.path.join(root, \"test\"),\n",
    "        transform=normalize\n",
    "    )\n",
    "\n",
    "    train_loader = DataLoader(\n",
    "        dataset=train_dataset,\n",
    "        batch_size=batch_size,\n",
    "        shuffle=True\n",
    "    )\n",
    "    valid_loader = DataLoader(\n",
    "        dataset=valid_dataset,\n",
    "        batch_size=batch_size,\n",
    "        shuffle=False\n",
    "    )\n",
    "    test_loader = DataLoader(\n",
    "        dataset=test_dataset,\n",
    "        batch_size=batch_size,\n",
    "        shuffle=False\n",
    "    )\n",
    "\n",
    "    return train_loader, valid_loader, test_loader"
   ]
  },
  {
   "cell_type": "code",
   "execution_count": 5,
   "metadata": {},
   "outputs": [],
   "source": [
    "train_loader, valid_loader, test_loader = load_dataset()"
   ]
  },
  {
   "cell_type": "code",
   "execution_count": null,
   "metadata": {},
   "outputs": [],
   "source": [
    "def train(\n",
    "\tmodel: nn.Module,\n",
    "\tsave_path: str,\n",
    "\ttrain_loader: DataLoader,\n",
    "\tval_loader: DataLoader,\n",
    "\tnum_warmup_steps=5,\n",
    "\tnum_epochs=100,\n",
    "\tlr=0.01,\n",
    "\tmomentum=0.9,\n",
    "\tweight_decay=0.0005,\n",
    "\tdevice='cpu',\n",
    "):\n",
    "    model = model.to(device)\n",
    "\n",
    "    result = []\n",
    "    \n",
    "    loss_fn = nn.CrossEntropyLoss()\n",
    "    optimizer = optim.SGD(model.parameters(), lr=lr, momentum=momentum, weight_decay=weight_decay)\n",
    "    scheduler = get_cosine_schedule_with_warmup(optimizer, num_warmup_steps=num_warmup_steps, num_training_steps=num_epochs)\n",
    "    \n",
    "    print(f'Training with {device}')\n",
    "\n",
    "    for epoch in range(num_epochs):\n",
    "        # train\n",
    "        model.train()\n",
    "        train_running_loss=0.0\n",
    "        train_correct = 0\n",
    "        with tqdm(total=len(train_loader), desc=f'Train Epoch {epoch+1}/{num_epochs}', unit='batch') as pbar:\n",
    "            for i, (inputs, labels) in enumerate(train_loader):\n",
    "                inputs, labels = inputs.to(device), labels.to(device)\n",
    "                outputs = model(inputs)\n",
    "                loss = loss_fn(outputs, labels)\n",
    "                optimizer.zero_grad()\n",
    "                loss.backward()\n",
    "                optimizer.step()\n",
    "                train_running_loss += loss.item()\n",
    "                _, predicted = torch.max(outputs.data, 1)\n",
    "                train_correct += (predicted == labels).sum().item()\n",
    "                pbar.set_postfix({'loss': f'{train_running_loss/(i+1):.3f}'})\n",
    "                pbar.update()\n",
    "            train_loss = train_running_loss/(i+1)\n",
    "            train_acc = train_correct/len(train_loader.dataset)*100\n",
    "            pbar.set_postfix({'loss': f'{train_loss:.3f}', 'acc': f'{train_acc:.2f}'})\n",
    "\n",
    "        # val\n",
    "        model.eval()\n",
    "        val_running_loss = 0.0\n",
    "        val_correct = 0\n",
    "        with tqdm(total=len(val_loader), desc=f'Val Epoch {epoch+1}/{num_epochs}', unit='batch') as pbar:\n",
    "            with torch.no_grad():\n",
    "                for i, (inputs, labels) in enumerate(val_loader):\n",
    "                    inputs, labels = inputs.to(device), labels.to(device)\n",
    "                    outputs = model(inputs)\n",
    "                    loss = loss_fn(outputs, labels)\n",
    "                    val_running_loss += loss.item()\n",
    "                    _, predicted = torch.max(outputs.data, 1)\n",
    "                    val_correct += (predicted == labels).sum().item()\n",
    "                    pbar.set_postfix({'loss': f'{val_running_loss/(i+1):.3f}'})\n",
    "                    pbar.update()\n",
    "                val_loss = val_running_loss/(i+1)\n",
    "                val_acc = val_correct/len(val_loader.dataset)*100\n",
    "            pbar.set_postfix({'loss': f'{val_loss:.3f}', 'acc': f'{val_acc:.2f}'})\n",
    "\n",
    "        scheduler.step()\n",
    "        \n",
    "        torch.save(model.state_dict(), f'{save_path}/{epoch+1}_weights.pth')\n",
    "\n",
    "        result.append({'epoch': epoch+1, 'train_loss': train_loss, 'train_acc': train_acc, 'val_loss': val_loss, 'val_acc': val_acc})\n",
    "        result_df = pd.DataFrame(result)\n",
    "        result_df.to_csv(f'{save_path}/train_result.csv', index=False)"
   ]
  },
  {
   "cell_type": "code",
   "execution_count": null,
   "metadata": {},
   "outputs": [],
   "source": [
    "def test(\n",
    "\tmodel:nn.Module,\n",
    "\ttest_loader: DataLoader,\n",
    "\tweights_path: str,\n",
    "\tdevice='cpu',\n",
    "):\n",
    "\tmodel = model.to(device).eval()\n",
    "\tmodel.load_state_dict(torch.load(weights_path, weights_only=True))\n",
    "\tcorrect = 0\n",
    "\twith tqdm(total=len(test_loader), desc=f'Test', unit='batch') as pbar:\n",
    "\t\twith torch.inference_mode():\n",
    "\t\t\tfor i, (inputs, labels) in enumerate(test_loader):\n",
    "\t\t\t\tinputs, labels = inputs.to(device), labels.to(device)\n",
    "\t\t\t\toutputs = model(inputs)\n",
    "\t\t\t\t_, predicted = torch.max(outputs.data, 1)\n",
    "\t\t\t\tcorrect += (predicted == labels).sum().item()\n",
    "\t\t\t\tpbar.update()\n",
    "\t\t\tpbar.set_postfix({'acc': correct/len(test_loader.dataset)*100})\n",
    "\n",
    "\tprint(f'\\nAccuracy: {correct/len(test_loader.dataset)*100}%')"
   ]
  },
  {
   "cell_type": "code",
   "execution_count": null,
   "metadata": {},
   "outputs": [],
   "source": [
    "def itest(\n",
    "\tmodel:nn.Module,\n",
    "\timage_path: str,\n",
    "\tweights_path: str,\n",
    "\tdevice='cpu',\n",
    "):\n",
    "    classes = [\n",
    "        'beauty_products',\n",
    " \t\t'electronics',\n",
    " \t\t'fashion',\n",
    " \t\t'fitness_equipments',\n",
    " \t\t'furniture',\n",
    " \t\t'home_appliances',\n",
    " \t\t'kitchenware',\n",
    " \t\t'musical_instruments',\n",
    " \t\t'study_things',\n",
    " \t\t'toys'\n",
    "    ]\n",
    "    model = model.to(device).eval()\n",
    "    model.load_state_dict(torch.load(weights_path, weights_only=True))\n",
    "\n",
    "    input_image = Image.open(image_path)\n",
    "    preprocess = transforms.Compose([\n",
    "            transforms.Resize(size=(224, 224), antialias=True),\n",
    "            transforms.ToTensor(),\n",
    "            transforms.Normalize([0.7037, 0.6818, 0.6685], [0.2739, 0.2798, 0.2861]),\n",
    "        ])\n",
    "    input_tensor = preprocess(input_image)\n",
    "    input_batch = input_tensor.unsqueeze(0).to(device)\n",
    "\n",
    "    with torch.inference_mode():\n",
    "        output = model(input_batch)\n",
    "    probs = torch.nn.functional.softmax(output[0], dim=0)\n",
    "    for idx, prob in enumerate(probs):\n",
    "        print(f'{classes[idx]}: {prob*100:.2f}%')\n",
    "\n",
    "    print(f'\\nPrediction: {classes[torch.argmax(probs)]}')"
   ]
  },
  {
   "cell_type": "markdown",
   "metadata": {},
   "source": [
    "# Train Test ResNet"
   ]
  },
  {
   "cell_type": "code",
   "execution_count": null,
   "metadata": {},
   "outputs": [],
   "source": [
    "model = ResNet101(num_classes=10)"
   ]
  },
  {
   "cell_type": "code",
   "execution_count": null,
   "metadata": {},
   "outputs": [],
   "source": [
    "train_loader, val_loader, test_loader = load_dataset()"
   ]
  },
  {
   "cell_type": "code",
   "execution_count": null,
   "metadata": {},
   "outputs": [],
   "source": [
    "train(model, 'resnet101', train_loader, val_loader, device='cuda' if torch.cuda.is_available() else 'cpu')"
   ]
  },
  {
   "cell_type": "code",
   "execution_count": null,
   "metadata": {},
   "outputs": [],
   "source": [
    "test(model, 'resnet101', test_loader, device='cuda' if torch.cuda.is_available() else 'cpu')"
   ]
  },
  {
   "cell_type": "markdown",
   "metadata": {},
   "source": [
    "# Train Test ViT"
   ]
  },
  {
   "cell_type": "code",
   "execution_count": null,
   "metadata": {},
   "outputs": [],
   "source": [
    "model = VisionTransformer(num_classes=10)"
   ]
  },
  {
   "cell_type": "code",
   "execution_count": null,
   "metadata": {},
   "outputs": [],
   "source": [
    "train_loader, val_loader, test_loader = load_dataset()"
   ]
  },
  {
   "cell_type": "code",
   "execution_count": null,
   "metadata": {},
   "outputs": [],
   "source": [
    "train(model, 'Vit-B/16', train_loader, val_loader, device='cuda' if torch.cuda.is_available() else 'cpu')"
   ]
  },
  {
   "cell_type": "code",
   "execution_count": null,
   "metadata": {},
   "outputs": [],
   "source": [
    "test(model, 'Vit-B/16', test_loader, device='cuda' if torch.cuda.is_available() else 'cpu')"
   ]
  }
 ],
 "metadata": {
  "kernelspec": {
   "display_name": ".venv",
   "language": "python",
   "name": "python3"
  },
  "language_info": {
   "codemirror_mode": {
    "name": "ipython",
    "version": 3
   },
   "file_extension": ".py",
   "mimetype": "text/x-python",
   "name": "python",
   "nbconvert_exporter": "python",
   "pygments_lexer": "ipython3",
   "version": "3.12.2"
  }
 },
 "nbformat": 4,
 "nbformat_minor": 2
}
