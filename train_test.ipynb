{
 "cells": [
  {
   "cell_type": "markdown",
   "metadata": {},
   "source": [
    "# Set up"
   ]
  },
  {
   "cell_type": "code",
   "execution_count": 1,
   "metadata": {},
   "outputs": [
    {
     "name": "stderr",
     "output_type": "stream",
     "text": [
      "c:\\Users\\hoang\\xldl\\.venv\\Lib\\site-packages\\tqdm\\auto.py:21: TqdmWarning: IProgress not found. Please update jupyter and ipywidgets. See https://ipywidgets.readthedocs.io/en/stable/user_install.html\n",
      "  from .autonotebook import tqdm as notebook_tqdm\n"
     ]
    }
   ],
   "source": [
    "import os\n",
    "import torch\n",
    "import torch.nn as nn\n",
    "import torch.optim as optim\n",
    "import torchvision.transforms as transforms\n",
    "from torch.utils.data import DataLoader\n",
    "from torchvision.datasets import ImageFolder\n",
    "from torchtune.modules import get_cosine_schedule_with_warmup\n",
    "import pandas as pd\n",
    "from tqdm import tqdm\n",
    "from PIL import Image\n",
    "from models.resnet import ResNet101\n",
    "from models.vision_transformer import VisionTransformer"
   ]
  },
  {
   "cell_type": "code",
   "execution_count": null,
   "metadata": {},
   "outputs": [],
   "source": [
    "def load_dataset(root='./data', batch_size=64) -> tuple[DataLoader, DataLoader, DataLoader]:\n",
    "    torch.manual_seed(42)\n",
    "    \n",
    "    data_augmentation = transforms.Compose([\n",
    "\t\ttransforms.RandomRotation(degrees=15),\n",
    "\t\ttransforms.RandomHorizontalFlip(p=0.5),\n",
    "\t\ttransforms.ColorJitter(brightness=0.1, contrast=0.1, saturation=0.1, hue=0.1),\n",
    "\t])\n",
    "    normalize = transforms.Compose([\n",
    "\t\ttransforms.Resize(size=(224, 224), antialias=True),\n",
    "\t\ttransforms.ToTensor(),\n",
    "\t\ttransforms.Normalize([0.7037, 0.6818, 0.6685], [0.2739, 0.2798, 0.2861]),\n",
    "\t])\n",
    "\n",
    "    train_dataset = ImageFolder(\n",
    "        root=os.path.join(root, \"train\"),\n",
    "        transform=transforms.Compose([data_augmentation, normalize]),\n",
    "    )\n",
    "    val_dataset = ImageFolder(\n",
    "        root=os.path.join(root, \"val\"),\n",
    "        transform=normalize\n",
    "    )\n",
    "    test_dataset = ImageFolder(\n",
    "        root=os.path.join(root, \"test\"),\n",
    "        transform=normalize\n",
    "    )\n",
    "\n",
    "    train_loader = DataLoader(\n",
    "        dataset=train_dataset,\n",
    "        batch_size=batch_size,\n",
    "        shuffle=True\n",
    "    )\n",
    "    val_loader = DataLoader(\n",
    "        dataset=val_dataset,\n",
    "        batch_size=batch_size,\n",
    "        shuffle=False\n",
    "    )\n",
    "    test_loader = DataLoader(\n",
    "        dataset=test_dataset,\n",
    "        batch_size=batch_size,\n",
    "        shuffle=False\n",
    "    )\n",
    "\n",
    "    return train_loader, val_loader, test_loader"
   ]
  },
  {
   "cell_type": "code",
   "execution_count": null,
   "metadata": {},
   "outputs": [],
   "source": [
    "def train(\n",
    "\tmodel: nn.Module,\n",
    "\tsave_path: str,\n",
    "\ttrain_loader: DataLoader,\n",
    "\tval_loader: DataLoader,\n",
    "\tnum_warmup_steps=5,\n",
    "\tnum_epochs=100,\n",
    "\tlr=0.01,\n",
    "\tmomentum=0.9,\n",
    "\tweight_decay=0.0005,\n",
    "\tdevice='cpu',\n",
    "\tresume_training=False\n",
    "):\n",
    "    os.makedirs(save_path, exist_ok=True)\n",
    "    model = model.to(device)\n",
    "\n",
    "    result = []\n",
    "    start_epoch = 0\n",
    "    loss_fn = nn.CrossEntropyLoss()\n",
    "    optimizer = optim.SGD(model.parameters(), lr=lr, momentum=momentum, weight_decay=weight_decay)\n",
    "    scheduler = get_cosine_schedule_with_warmup(optimizer, num_warmup_steps=num_warmup_steps, num_training_steps=num_epochs)\n",
    "    \n",
    "    if resume_training:\n",
    "        result_df = pd.read_csv(f'{save_path}/train_result.csv')\n",
    "        result = list(result_df.T.to_dict().values())\n",
    "        start_epoch = int(result[-1]['epoch'])\n",
    "        model.load_state_dict(torch.load(f'{save_path}/{start_epoch}_weights.pth'))\n",
    "        optimizer.load_state_dict(torch.load(f'{save_path}/{start_epoch}_optimizer.pth'))\n",
    "        scheduler.load_state_dict(torch.load(f'{save_path}/{start_epoch}_scheduler.pth'))\n",
    "        for i in range(start_epoch):\n",
    "            for _ in train_loader:\n",
    "                pass\n",
    "            for _ in val_loader:\n",
    "                pass\n",
    "        print(f'Resume training from epoch {start_epoch}')\n",
    "    \n",
    "    print(f'Training with {device}')\n",
    "\n",
    "    for epoch in range(start_epoch, num_epochs):\n",
    "        # train\n",
    "        model.train()\n",
    "        train_running_loss=0.0\n",
    "        train_correct = 0\n",
    "        with tqdm(total=len(train_loader), desc=f'Train Epoch {epoch+1}/{num_epochs}', unit='batch') as pbar:\n",
    "            for i, (inputs, labels) in enumerate(train_loader):\n",
    "                inputs, labels = inputs.to(device), labels.to(device)\n",
    "                outputs = model(inputs)\n",
    "                loss = loss_fn(outputs, labels)\n",
    "                optimizer.zero_grad()\n",
    "                loss.backward()\n",
    "                optimizer.step()\n",
    "                train_running_loss += loss.item()\n",
    "                _, predicted = torch.max(outputs.data, 1)\n",
    "                train_correct += (predicted == labels).sum().item()\n",
    "                pbar.set_postfix({'loss': f'{train_running_loss/(i+1):.3f}'})\n",
    "                pbar.update()\n",
    "            train_loss = train_running_loss/(i+1)\n",
    "            train_acc = train_correct/len(train_loader.dataset)*100\n",
    "            pbar.set_postfix({'loss': f'{train_loss:.3f}', 'acc': f'{train_acc:.2f}'})\n",
    "\n",
    "        # val\n",
    "        model.eval()\n",
    "        val_running_loss = 0.0\n",
    "        val_correct = 0\n",
    "        with tqdm(total=len(val_loader), desc=f'Val Epoch {epoch+1}/{num_epochs}', unit='batch') as pbar:\n",
    "            with torch.no_grad():\n",
    "                for i, (inputs, labels) in enumerate(val_loader):\n",
    "                    inputs, labels = inputs.to(device), labels.to(device)\n",
    "                    outputs = model(inputs)\n",
    "                    loss = loss_fn(outputs, labels)\n",
    "                    val_running_loss += loss.item()\n",
    "                    _, predicted = torch.max(outputs.data, 1)\n",
    "                    val_correct += (predicted == labels).sum().item()\n",
    "                    pbar.set_postfix({'loss': f'{val_running_loss/(i+1):.3f}'})\n",
    "                    pbar.update()\n",
    "                val_loss = val_running_loss/(i+1)\n",
    "                val_acc = val_correct/len(val_loader.dataset)*100\n",
    "            pbar.set_postfix({'loss': f'{val_loss:.3f}', 'acc': f'{val_acc:.2f}'})\n",
    "            \n",
    "        print(scheduler.get_last_lr())\n",
    "        scheduler.step()\n",
    "        \n",
    "        torch.save(model.state_dict(), f'{save_path}/{epoch+1}_weights.pth')\n",
    "        torch.save(optimizer.state_dict(), f'{save_path}/{epoch+1}_optimizer.pth')\n",
    "        torch.save(scheduler.state_dict(), f'{save_path}/{epoch+1}_scheduler.pth')\n",
    "\n",
    "        result.append({'epoch': epoch+1, 'train_loss': train_loss, 'train_acc': train_acc, 'val_loss': val_loss, 'val_acc': val_acc})\n",
    "        result_df = pd.DataFrame(result)\n",
    "        result_df.to_csv(f'{save_path}/train_result.csv', index=False)"
   ]
  },
  {
   "cell_type": "code",
   "execution_count": 4,
   "metadata": {},
   "outputs": [],
   "source": [
    "def test(\n",
    "\tmodel:nn.Module,\n",
    "\ttest_loader: DataLoader,\n",
    "\tweights_path: str,\n",
    "\tdevice='cpu',\n",
    "):\n",
    "\tmodel = model.to(device).eval()\n",
    "\tmodel.load_state_dict(torch.load(weights_path, weights_only=True))\n",
    "\tcorrect = 0\n",
    "\twith tqdm(total=len(test_loader), desc=f'Test', unit='batch') as pbar:\n",
    "\t\twith torch.inference_mode():\n",
    "\t\t\tfor i, (inputs, labels) in enumerate(test_loader):\n",
    "\t\t\t\tinputs, labels = inputs.to(device), labels.to(device)\n",
    "\t\t\t\toutputs = model(inputs)\n",
    "\t\t\t\t_, predicted = torch.max(outputs.data, 1)\n",
    "\t\t\t\tcorrect += (predicted == labels).sum().item()\n",
    "\t\t\t\tpbar.update()\n",
    "\t\t\tpbar.set_postfix({'acc': correct/len(test_loader.dataset)*100})\n",
    "\n",
    "\tprint(f'\\nAccuracy: {correct/len(test_loader.dataset)*100}%')"
   ]
  },
  {
   "cell_type": "code",
   "execution_count": 5,
   "metadata": {},
   "outputs": [],
   "source": [
    "def itest(\n",
    "\tmodel:nn.Module,\n",
    "\timage_path: str,\n",
    "\tweights_path: str,\n",
    "\tdevice='cpu',\n",
    "):\n",
    "    classes = [\n",
    "        'beauty_products',\n",
    " \t\t'electronics',\n",
    " \t\t'fashion',\n",
    " \t\t'fitness_equipments',\n",
    " \t\t'furniture',\n",
    " \t\t'home_appliances',\n",
    " \t\t'kitchenware',\n",
    " \t\t'musical_instruments',\n",
    " \t\t'study_things',\n",
    " \t\t'toys'\n",
    "    ]\n",
    "    model = model.to(device).eval()\n",
    "    model.load_state_dict(torch.load(weights_path, weights_only=True))\n",
    "\n",
    "    input_image = Image.open(image_path)\n",
    "    preprocess = transforms.Compose([\n",
    "            transforms.Resize(size=(224, 224), antialias=True),\n",
    "            transforms.ToTensor(),\n",
    "            transforms.Normalize([0.7037, 0.6818, 0.6685], [0.2739, 0.2798, 0.2861]),\n",
    "        ])\n",
    "    input_tensor = preprocess(input_image)\n",
    "    input_batch = input_tensor.unsqueeze(0).to(device)\n",
    "\n",
    "    with torch.inference_mode():\n",
    "        output = model(input_batch)\n",
    "    probs = torch.nn.functional.softmax(output[0], dim=0)\n",
    "    for idx, prob in enumerate(probs):\n",
    "        print(f'{classes[idx]}: {prob*100:.2f}%')\n",
    "\n",
    "    print(f'\\nPrediction: {classes[torch.argmax(probs)]}')"
   ]
  },
  {
   "cell_type": "markdown",
   "metadata": {},
   "source": [
    "# Train Test ResNet"
   ]
  },
  {
   "cell_type": "code",
   "execution_count": null,
   "metadata": {},
   "outputs": [],
   "source": [
    "model = ResNet101(num_classes=10)"
   ]
  },
  {
   "cell_type": "code",
   "execution_count": null,
   "metadata": {},
   "outputs": [],
   "source": [
    "train_loader, val_loader, test_loader = load_dataset()"
   ]
  },
  {
   "cell_type": "code",
   "execution_count": null,
   "metadata": {},
   "outputs": [],
   "source": [
    "train(model, './resnet101', train_loader, val_loader, device='cuda' if torch.cuda.is_available() else 'cpu')"
   ]
  },
  {
   "cell_type": "code",
   "execution_count": null,
   "metadata": {},
   "outputs": [],
   "source": [
    "test(model, './resnet101', test_loader, device='cuda' if torch.cuda.is_available() else 'cpu')"
   ]
  },
  {
   "cell_type": "markdown",
   "metadata": {},
   "source": [
    "# Train Test ViT"
   ]
  },
  {
   "cell_type": "code",
   "execution_count": 7,
   "metadata": {},
   "outputs": [],
   "source": [
    "model = VisionTransformer(num_classes=10)"
   ]
  },
  {
   "cell_type": "code",
   "execution_count": 8,
   "metadata": {},
   "outputs": [],
   "source": [
    "train_loader, val_loader, test_loader = load_dataset(batch_size=16)"
   ]
  },
  {
   "cell_type": "code",
   "execution_count": null,
   "metadata": {},
   "outputs": [
    {
     "name": "stderr",
     "output_type": "stream",
     "text": [
      "C:\\Users\\hoang\\AppData\\Local\\Temp\\ipykernel_202540\\2290859010.py:19: FutureWarning: get_cosine_schedule_with_warmup is deprecated and will be removed in future versions. Please use get_cosine_schedule_with_warmup from torchtune.training.lr_schedulers instead.         \n",
      "  scheduler = get_cosine_schedule_with_warmup(optimizer, num_warmup_steps=num_warmup_steps, num_training_steps=num_epochs)\n"
     ]
    },
    {
     "name": "stdout",
     "output_type": "stream",
     "text": [
      "Training with cuda\n"
     ]
    },
    {
     "name": "stderr",
     "output_type": "stream",
     "text": [
      "Train Epoch 1/20:   0%|          | 0/2500 [00:00<?, ?batch/s]c:\\Users\\hoang\\xldl\\categories-classification\\models\\vision_transformer.py:117: UserWarning: 1Torch was not compiled with flash attention. (Triggered internally at C:\\actions-runner\\_work\\pytorch\\pytorch\\builder\\windows\\pytorch\\aten\\src\\ATen\\native\\transformers\\cuda\\sdp_utils.cpp:555.)\n",
      "  x = F.scaled_dot_product_attention(\n",
      "Train Epoch 1/20:  13%|█▎        | 317/2500 [05:45<39:40,  1.09s/batch, loss=2.589]\n"
     ]
    },
    {
     "ename": "KeyboardInterrupt",
     "evalue": "",
     "output_type": "error",
     "traceback": [
      "\u001b[1;31m---------------------------------------------------------------------------\u001b[0m",
      "\u001b[1;31mKeyboardInterrupt\u001b[0m                         Traceback (most recent call last)",
      "Cell \u001b[1;32mIn[9], line 1\u001b[0m\n\u001b[1;32m----> 1\u001b[0m \u001b[43mtrain\u001b[49m\u001b[43m(\u001b[49m\u001b[43mmodel\u001b[49m\u001b[43m,\u001b[49m\u001b[43m \u001b[49m\u001b[38;5;124;43m'\u001b[39;49m\u001b[38;5;124;43mVit-B/16\u001b[39;49m\u001b[38;5;124;43m'\u001b[39;49m\u001b[43m,\u001b[49m\u001b[43m \u001b[49m\u001b[43mtrain_loader\u001b[49m\u001b[43m,\u001b[49m\u001b[43m \u001b[49m\u001b[43mval_loader\u001b[49m\u001b[43m,\u001b[49m\u001b[43m \u001b[49m\u001b[43mnum_epochs\u001b[49m\u001b[38;5;241;43m=\u001b[39;49m\u001b[38;5;241;43m20\u001b[39;49m\u001b[43m,\u001b[49m\u001b[43m \u001b[49m\u001b[43mnum_warmup_steps\u001b[49m\u001b[38;5;241;43m=\u001b[39;49m\u001b[38;5;241;43m2\u001b[39;49m\u001b[43m,\u001b[49m\u001b[43m \u001b[49m\u001b[43mdevice\u001b[49m\u001b[38;5;241;43m=\u001b[39;49m\u001b[38;5;124;43m'\u001b[39;49m\u001b[38;5;124;43mcuda\u001b[39;49m\u001b[38;5;124;43m'\u001b[39;49m\u001b[43m \u001b[49m\u001b[38;5;28;43;01mif\u001b[39;49;00m\u001b[43m \u001b[49m\u001b[43mtorch\u001b[49m\u001b[38;5;241;43m.\u001b[39;49m\u001b[43mcuda\u001b[49m\u001b[38;5;241;43m.\u001b[39;49m\u001b[43mis_available\u001b[49m\u001b[43m(\u001b[49m\u001b[43m)\u001b[49m\u001b[43m \u001b[49m\u001b[38;5;28;43;01melse\u001b[39;49;00m\u001b[43m \u001b[49m\u001b[38;5;124;43m'\u001b[39;49m\u001b[38;5;124;43mcpu\u001b[39;49m\u001b[38;5;124;43m'\u001b[39;49m\u001b[43m)\u001b[49m\n",
      "Cell \u001b[1;32mIn[4], line 36\u001b[0m, in \u001b[0;36mtrain\u001b[1;34m(model, save_path, train_loader, val_loader, num_warmup_steps, num_epochs, lr, momentum, weight_decay, device)\u001b[0m\n\u001b[0;32m     34\u001b[0m loss\u001b[38;5;241m.\u001b[39mbackward()\n\u001b[0;32m     35\u001b[0m optimizer\u001b[38;5;241m.\u001b[39mstep()\n\u001b[1;32m---> 36\u001b[0m train_running_loss \u001b[38;5;241m+\u001b[39m\u001b[38;5;241m=\u001b[39m \u001b[43mloss\u001b[49m\u001b[38;5;241;43m.\u001b[39;49m\u001b[43mitem\u001b[49m\u001b[43m(\u001b[49m\u001b[43m)\u001b[49m\n\u001b[0;32m     37\u001b[0m _, predicted \u001b[38;5;241m=\u001b[39m torch\u001b[38;5;241m.\u001b[39mmax(outputs\u001b[38;5;241m.\u001b[39mdata, \u001b[38;5;241m1\u001b[39m)\n\u001b[0;32m     38\u001b[0m train_correct \u001b[38;5;241m+\u001b[39m\u001b[38;5;241m=\u001b[39m (predicted \u001b[38;5;241m==\u001b[39m labels)\u001b[38;5;241m.\u001b[39msum()\u001b[38;5;241m.\u001b[39mitem()\n",
      "\u001b[1;31mKeyboardInterrupt\u001b[0m: "
     ]
    }
   ],
   "source": [
    "train(model, './Vit-B16', train_loader, val_loader, num_epochs=20, num_warmup_steps=2, device='cuda' if torch.cuda.is_available() else 'cpu')"
   ]
  },
  {
   "cell_type": "code",
   "execution_count": null,
   "metadata": {},
   "outputs": [],
   "source": [
    "test(model, './Vit-B16', test_loader, device='cuda' if torch.cuda.is_available() else 'cpu')"
   ]
  }
 ],
 "metadata": {
  "kernelspec": {
   "display_name": ".venv",
   "language": "python",
   "name": "python3"
  },
  "language_info": {
   "codemirror_mode": {
    "name": "ipython",
    "version": 3
   },
   "file_extension": ".py",
   "mimetype": "text/x-python",
   "name": "python",
   "nbconvert_exporter": "python",
   "pygments_lexer": "ipython3",
   "version": "3.12.2"
  }
 },
 "nbformat": 4,
 "nbformat_minor": 2
}
